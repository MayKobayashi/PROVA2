{
 "cells": [
  {
   "cell_type": "code",
   "execution_count": 9,
   "id": "ae740b8e-16a1-4007-b4b0-a782676f06f2",
   "metadata": {},
   "outputs": [
    {
     "name": "stdout",
     "output_type": "stream",
     "text": [
      "Lista original: [29, 10, 14, 37, 13]\n",
      "Lista ordenada: [10, 13, 14, 29, 37]\n",
      "Maior elemento: 37\n"
     ]
    }
   ],
   "source": [
    "# Dado o código a seguir que implementa o algoritmo de ordenação por seleção (Selection Sort),\n",
    "# adicione um método para encontrar e exibir o maior elemnto da lista ordenada.\n",
    "\n",
    "def selection_sort(arr):\n",
    "    for i in range(len(arr)):\n",
    "        min_idx = i\n",
    "        for j in range(i + 1, len(arr)):\n",
    "            if arr[j] < arr[min_idx]:\n",
    "                min_idx = j\n",
    "        arr[i], arr[min_idx] = arr[min_idx], arr[i]\n",
    "    return arr\n",
    "\n",
    "#Lista de exemplo\n",
    "lista = [29, 10, 14, 37, 13]\n",
    "print(\"Lista original:\", lista)\n",
    "print(\"Lista ordenada:\", selection_sort(lista))\n",
    "\n",
    "#Adicione abaixo o método (find_max(lista_ordenada)) para encontrar e exibir o maior elemento da lista ordenada\n",
    "def find_max(arr):\n",
    "    return arr[-1]\n",
    "\n",
    "print(\"Maior elemento:\", find_max(selection_sort(lista)))"
   ]
  },
  {
   "cell_type": "code",
   "execution_count": 12,
   "id": "50e779b7-c360-4b58-9231-3cccf432000b",
   "metadata": {},
   "outputs": [
    {
     "name": "stdout",
     "output_type": "stream",
     "text": [
      "Lista original: [7, 4, 43, 95, 10, 30, 29, 94]\n",
      "Lista ordenada: [4, 7, 10, 29, 30, 43, 94, 95]\n",
      "Maior elemento: 95\n"
     ]
    }
   ],
   "source": [
    "# Teste com outra lista\n",
    "\n",
    "def selection_sort(arr):\n",
    "    for i in range(len(arr)):\n",
    "        min_idx = i\n",
    "        for j in range(i + 1, len(arr)):\n",
    "            if arr[j] < arr[min_idx]:\n",
    "                min_idx = j\n",
    "        arr[i], arr[min_idx] = arr[min_idx], arr[i]\n",
    "    return arr\n",
    "\n",
    "lista = [7, 4, 43, 95, 10, 30, 29, 94]\n",
    "print(\"Lista original:\", lista)\n",
    "print(\"Lista ordenada:\", selection_sort(lista))\n",
    "\n",
    "def find_max(arr):\n",
    "    return arr[-1]\n",
    "\n",
    "print(\"Maior elemento:\", find_max(selection_sort(lista)))"
   ]
  },
  {
   "cell_type": "code",
   "execution_count": null,
   "id": "133c3371-d5bb-4ae1-b08f-da94e591a1ca",
   "metadata": {},
   "outputs": [],
   "source": []
  }
 ],
 "metadata": {
  "kernelspec": {
   "display_name": "Python 3 (ipykernel)",
   "language": "python",
   "name": "python3"
  },
  "language_info": {
   "codemirror_mode": {
    "name": "ipython",
    "version": 3
   },
   "file_extension": ".py",
   "mimetype": "text/x-python",
   "name": "python",
   "nbconvert_exporter": "python",
   "pygments_lexer": "ipython3",
   "version": "3.12.4"
  }
 },
 "nbformat": 4,
 "nbformat_minor": 5
}
